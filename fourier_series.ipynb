{
 "cells": [
  {
   "cell_type": "code",
   "execution_count": 1,
   "id": "b3be1313-9a38-4dc3-bd11-29a8236e275f",
   "metadata": {},
   "outputs": [],
   "source": [
    "import numpy \n",
    "# import matplotlib.pyplot as plt\n",
    "import itertools"
   ]
  },
  {
   "cell_type": "code",
   "execution_count": 2,
   "id": "1e0a62ac-a61e-4bd2-a23d-fc9a2b06a104",
   "metadata": {},
   "outputs": [],
   "source": [
    "def vector_to_bytes(vec):\n",
    "    return numpy.array(vec).tobytes()\n",
    "\n",
    "def vector_from_bytes(byte_vec):\n",
    "    return numpy.frombuffer(byte_vec, dtype=int)"
   ]
  },
  {
   "cell_type": "code",
   "execution_count": 3,
   "id": "2d8dae7d-cd58-4aea-99ce-14cd7eec7e5e",
   "metadata": {},
   "outputs": [],
   "source": [
    "class Fourier_series:\n",
    "    \n",
    "    def __init__(self, N: int, dim: int):\n",
    "        self.N = N\n",
    "        self.dim = dim\n",
    "        self.allocate_series_space()\n",
    "\n",
    "    def allocate_series_space(self):\n",
    "        # dict with array (bytes) for basis vector and list for vector of a and b\n",
    "        self.series: dict[np.ndarray, list[np.ndarray]] = {}\n",
    "        \n",
    "        for vec in itertools.product(range(self.N), repeat=self.dim):\n",
    "            self.series[vector_to_bytes(vec)] = 2*[numpy.zeros(self.dim)]\n",
    "\n",
    "        self.M = len(self.series)\n",
    "        self.params = len(self.series)*2*self.dim\n",
    "\n",
    "    def eval(self, x):\n",
    "        assert len(x) == self.dim, \"Input vector size should match series dimension\"\n",
    "        # is vectorization possible? \n",
    "        output = numpy.zeros_like(x)\n",
    "        for byte_vector, (a, b) in self.series:\n",
    "            vector = vector_from_bytes(byte_vector)\n",
    "            output += a*numpy.cos(2*numpy.pi*numpy.dot(vector, x))\n",
    "            output += b*numpy.sin(2*numpy.pi*numpy.dot(vector, x))\n",
    "        return output\n",
    "\n",
    "    def set_a_b_elements(self, location, a_elements, b_elements):\n",
    "        byte_location = vector_to_bytes(location)\n",
    "        self.set_elements(byte_location, 0, a_elements)\n",
    "        self.set_elements(byte_location, 1, b_elements)\n",
    "\n",
    "    def set_elements(self, byte_location, index, elements):\n",
    "        self.series[vector_to_bytes(byte_location)][index] = elements\n",
    "\n",
    "    def get_elements(self, location):\n",
    "        return self.series[vector_to_bytes(location)]\n"
   ]
  },
  {
   "cell_type": "code",
   "execution_count": 4,
   "id": "3cd17217-3e83-48bf-859c-6ed4a4b2fd31",
   "metadata": {},
   "outputs": [],
   "source": [
    "a = Fourier_series(1,3)"
   ]
  },
  {
   "cell_type": "code",
   "execution_count": 5,
   "id": "b504488d-8747-45e7-9321-4c2bf8d37297",
   "metadata": {},
   "outputs": [
    {
     "data": {
      "text/plain": [
       "[array([0., 0., 0.]), array([0., 0., 0.])]"
      ]
     },
     "execution_count": 5,
     "metadata": {},
     "output_type": "execute_result"
    }
   ],
   "source": [
    "a.get_elements((0,0,0))"
   ]
  },
  {
   "cell_type": "code",
   "execution_count": 6,
   "id": "e46c1373-a347-403e-b5ae-2d23312d10f1",
   "metadata": {},
   "outputs": [],
   "source": [
    "a.set_a_b_elements((0,0,0), numpy.array([1,2,3]), numpy.array([3,2,1]))"
   ]
  },
  {
   "cell_type": "code",
   "execution_count": 7,
   "id": "e002bda5-aaac-448c-ad8c-5964a0383dda",
   "metadata": {},
   "outputs": [
    {
     "data": {
      "text/plain": [
       "[array([1, 2, 3]), array([3, 2, 1])]"
      ]
     },
     "execution_count": 7,
     "metadata": {},
     "output_type": "execute_result"
    }
   ],
   "source": [
    "a.get_elements((0,0,0))"
   ]
  },
  {
   "cell_type": "code",
   "execution_count": 8,
   "id": "ebfce41e-1f45-4a5b-941f-52c87c463bcd",
   "metadata": {},
   "outputs": [],
   "source": [
    "# fill the series, in the future will be automatically filled, for validation it is needed to get it by hand\n",
    "# care when filling, the first list second element must be zero"
   ]
  }
 ],
 "metadata": {
  "kernelspec": {
   "display_name": "Python 3 (ipykernel)",
   "language": "python",
   "name": "python3"
  },
  "language_info": {
   "codemirror_mode": {
    "name": "ipython",
    "version": 3
   },
   "file_extension": ".py",
   "mimetype": "text/x-python",
   "name": "python",
   "nbconvert_exporter": "python",
   "pygments_lexer": "ipython3",
   "version": "3.11.6"
  }
 },
 "nbformat": 4,
 "nbformat_minor": 5
}
