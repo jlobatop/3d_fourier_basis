{
 "cells": [
  {
   "cell_type": "code",
   "execution_count": 1,
   "id": "b3be1313-9a38-4dc3-bd11-29a8236e275f",
   "metadata": {},
   "outputs": [],
   "source": [
    "import numpy \n",
    "import matplotlib.pyplot as plt\n",
    "import itertools"
   ]
  },
  {
   "cell_type": "code",
   "execution_count": 2,
   "id": "7b94f862-b863-40fa-97c9-a171339f989c",
   "metadata": {},
   "outputs": [],
   "source": [
    "# generate tuples for the desired vectors\n",
    "N = 3\n",
    "dim = 1\n",
    "\n",
    "series = {}\n",
    "\n",
    "for v in itertools.product(range(N), repeat=dim):\n",
    "    # dict with array (bytes) for basis vector and list for vector of a and b\n",
    "    series[numpy.array(v).tobytes()] = 2*[numpy.zeros(dim)]"
   ]
  },
  {
   "cell_type": "code",
   "execution_count": 3,
   "id": "ea091b5c-c3c7-4253-abf9-bc5146de5e96",
   "metadata": {},
   "outputs": [
    {
     "data": {
      "text/plain": [
       "{b'\\x00\\x00\\x00\\x00\\x00\\x00\\x00\\x00': [array([0.]), array([0.])],\n",
       " b'\\x01\\x00\\x00\\x00\\x00\\x00\\x00\\x00': [array([0.]), array([0.])],\n",
       " b'\\x02\\x00\\x00\\x00\\x00\\x00\\x00\\x00': [array([0.]), array([0.])]}"
      ]
     },
     "execution_count": 3,
     "metadata": {},
     "output_type": "execute_result"
    }
   ],
   "source": [
    "series"
   ]
  },
  {
   "cell_type": "code",
   "execution_count": 4,
   "id": "5392db5b-ce27-4275-84a0-10ec86301427",
   "metadata": {},
   "outputs": [],
   "source": [
    "# clever multiplication to get the function\n",
    "def g(x, series):\n",
    "    # x is a vector of dimension dim\n",
    "    output = numpy.zeros_like(x)\n",
    "    for byte_basis_vector, (a, b) in series:\n",
    "        basis_vector = numpy.frombuffer(basis_vector, dtype=int)\n",
    "        output += a*numpy.cos(2*numpy.pi*numpy.dot(basis_vector, x))\n",
    "        output =+ b*numpy.sin(2*numpy.pi*numpy.dot(basis_vector, x))\n",
    "    return output"
   ]
  },
  {
   "cell_type": "code",
   "execution_count": 5,
   "id": "ebfce41e-1f45-4a5b-941f-52c87c463bcd",
   "metadata": {},
   "outputs": [],
   "source": [
    "# fill the series, in the future will be automatically filled, for validation it is needed to get it by hand"
   ]
  },
  {
   "cell_type": "code",
   "execution_count": 6,
   "id": "d340c21d-3289-4947-91ea-0a60190d2b2b",
   "metadata": {},
   "outputs": [],
   "source": [
    "## care when filling, the first list second element must be zero"
   ]
  },
  {
   "cell_type": "code",
   "execution_count": null,
   "id": "cc4eeaa1-2503-4f16-b79e-75c94362718c",
   "metadata": {},
   "outputs": [],
   "source": []
  },
  {
   "cell_type": "code",
   "execution_count": null,
   "id": "0f74e17d-4ed4-41a9-8b67-a4eefc9f2159",
   "metadata": {},
   "outputs": [],
   "source": [
    "# create a class to group everything, so that every class is a Fourier series  # (with N and dim in the init, series as attribute, g as method, filling as method)"
   ]
  },
  {
   "cell_type": "code",
   "execution_count": null,
   "id": "2d8dae7d-cd58-4aea-99ce-14cd7eec7e5e",
   "metadata": {},
   "outputs": [],
   "source": [
    "\n"
   ]
  }
 ],
 "metadata": {
  "kernelspec": {
   "display_name": "Python 3 (ipykernel)",
   "language": "python",
   "name": "python3"
  },
  "language_info": {
   "codemirror_mode": {
    "name": "ipython",
    "version": 3
   },
   "file_extension": ".py",
   "mimetype": "text/x-python",
   "name": "python",
   "nbconvert_exporter": "python",
   "pygments_lexer": "ipython3",
   "version": "3.11.6"
  }
 },
 "nbformat": 4,
 "nbformat_minor": 5
}
